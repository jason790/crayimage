{
 "cells": [
  {
   "cell_type": "markdown",
   "metadata": {},
   "source": [
    "# TrackNet\n",
    "\n",
    "The purpose of this net is to estimate probability of a small patch to contain a particle track.\n",
    "This is done in a pure unsupervised way by comparing different runs under two assumptions:\n",
    "- one of the runs contains much higher number of particle traces than the other;\n",
    "- particle traces from one run are indistinguishable against traces from th other and the same for noise."
   ]
  },
  {
   "cell_type": "markdown",
   "metadata": {},
   "source": [
    "## Loading data, importing libraries etc."
   ]
  },
  {
   "cell_type": "code",
   "execution_count": 1,
   "metadata": {
    "collapsed": false
   },
   "outputs": [
    {
     "name": "stdout",
     "output_type": "stream",
     "text": [
      "env: OMP_NUM_THREADS=32\n",
      "env: THEANO_FLAGS='device=cpu','floatX=float32', 'openmp=True'\n"
     ]
    },
    {
     "name": "stderr",
     "output_type": "stream",
     "text": [
      "/opt/anaconda/lib/python2.7/site-packages/theano/tensor/signal/downsample.py:6: UserWarning: downsample module has been moved to the theano.tensor.signal.pool module.\n",
      "  \"downsample module has been moved to the theano.tensor.signal.pool module.\")\n"
     ]
    }
   ],
   "source": [
    "%env OMP_NUM_THREADS=32\n",
    "%env THEANO_FLAGS='device=cpu','floatX=float32', 'openmp=True'\n",
    "\n",
    "DATA_ROOT = '/mnt/crayfis/data/rawcam_masked/'\n",
    "\n",
    "import numpy as np\n",
    "\n",
    "import theano\n",
    "import theano.tensor as T\n",
    "\n",
    "%matplotlib inline\n",
    "import matplotlib.pyplot as plt\n",
    "\n",
    "from crayimage.nn import Expression\n",
    "from crayimage.utils import NNWatcher\n",
    "from crayimage.runutils import load_index\n",
    "from crayimage.imgutils import slice, flatten\n",
    "from crayimage.runutils import BatchStreams\n",
    "\n",
    "from lasagne import *"
   ]
  },
  {
   "cell_type": "markdown",
   "metadata": {},
   "source": [
    "## Fancy sampling\n",
    "\n",
    "The problem with this approach is in training time.\n",
    "A neural network is conventionally trained by mini-batch gradient descent: network's parameters are updates by gradient from current loss.\n",
    "\n",
    "Intuitively, large number of noise from both sides\n",
    "results in zero gradient, and effectively only $\\alpha - \\beta$ fraction of samples contributes to the gradient, where $\\alpha, \\beta$ - fraction of samples in the first and the second runs.\n",
    "\n",
    "With mini-batches the situation is much worse: there is a small probability that a particle trace will be included in a batch, thus most of the batches doesn't contribute to learning at all.\n",
    "\n",
    "However, we have an idea that the higher the pixel value the higher probability to find a particle trace traveling through this pixel (especially after hot-cell-killing). Using this statistics we can forcibly enrich our batches with traces.\n",
    "However, if we just increase probability of being selected in a batch for some samples we obtain a biased probability estimation. A better idea is to reweight samples $x_i$ accordingly by weights $w_i$.\n",
    "In other words, indtead of using convetional loss with uniform sampling over $x_i$:\n",
    "$$\\mathcal{L} = \\frac{1}{n} \\sum_i l(f(x_i), y_i)$$\n",
    "use reweighted loss:\n",
    "$$\\mathcal{L}' = \\frac{1}{\\sum_i w_i} \\sum_i w_i l(f(x_i), y_i)$$\n",
    "with sampling that favours particle traces.\n",
    "\n",
    "where:\n",
    "- $f$ - the network estimation;\n",
    "- $y_i$ - label of dataset;\n",
    "- $w_i = \\frac{p_{\\mathrm{batch}}(x_i)}{p(x_i)}$\n",
    "- $p_{\\mathrm{batch}}(x_i)$ - probability of $x_i$ being selected in a batch;\n",
    "- $p(x_i)$ - prior probability of $x_i$, $p(x_i) = \\frac{1}{N}$.\n",
    "\n",
    "Note that under any adequate $p_{\\mathrm{batch}}(x_i)$:\n",
    "$$\\mathbb{E}_{\\mathrm{uniform\\,by\\,} x}\\mathcal{L} = \\mathbb{E}_\\mathrm{x \\sim p_{\\mathrm{batch}}}\\mathcal{L}'$$\n",
    "and with proper $p_{\\mathrm{batch}}(x_i)$:\n",
    "$$\\mathbb{D}_{\\mathrm{uniform\\,by\\,} x}\\mathcal{L} \\gg \\mathbb{D}_\\mathrm{x \\sim p_{\\mathrm{batch}}}\\mathcal{L}'$$\n",
    "thus metric is much stable.\n",
    "\n",
    "#### Technical details\n",
    "\n",
    "Quite straight forward approach is to use `np.random.choice(X, size, p=p)` to sample minibatch.\n",
    "However, it seems like for large `X` the function is extreamely slow (so slow, it is faster not to do reweighting).\n",
    "\n",
    "A great improvement in speed can be achieved by splitting `X` into baskets, then sample uniformely from baskets.\n",
    "The method below, just makes a uniform binning by some statistics and samples equal amount of samples from each basket.\n",
    "\n",
    "#### Example\n",
    "\n",
    "Image compution some statistic $s(x)$ for $x \\sim P$, where $x \\in \\mathbb{R}^1$ (mini-batch estimation of loss can be considered as a statistic).\n",
    "\n",
    "Now compare two methods: integration of $p(x)s(x)$ and monte-carlo $\\mathrm{mean}(s(x))$.\n",
    "If distribution of $s(x)$ is a heavy-tailed one, integration would be much accurate/__faster__.\n",
    "\n",
    "This scheme is a hybrid one. We use integration by a one axis, and Monte-Carlo to compute function value within bins."
   ]
  },
  {
   "cell_type": "code",
   "execution_count": 2,
   "metadata": {
    "collapsed": true
   },
   "outputs": [],
   "source": [
    "def binned_batch_stream(target_statistics, n_epoches, batch_size, n_batches, n_bins=64):\n",
    "    hist, bins = np.histogram(target_statistics, bins=n_bins)\n",
    "    indx = np.argsort(target_statistics)\n",
    "    indicies_categories = np.array_split(indx, np.cumsum(hist)[:-1])\n",
    "    \n",
    "    category_ps = hist / np.sum(hist, dtype='float64')\n",
    "    \n",
    "    per_category = batch_size / n_bins\n",
    "    \n",
    "    weight_correction = (np.float64(hist) / per_category).astype('float32')\n",
    "    wc = np.repeat(weight_correction, per_category)\n",
    "    \n",
    "    def stream():\n",
    "        for i in xrange(n_batches):\n",
    "            sample = [\n",
    "                np.random.choice(ind, size=per_category, replace=True)\n",
    "                for ind in indicies_categories\n",
    "            ]\n",
    "\n",
    "            yield np.hstack(sample), wc\n",
    "    \n",
    "    for epoch in xrange(n_epoches):\n",
    "        yield stream()"
   ]
  },
  {
   "cell_type": "code",
   "execution_count": 3,
   "metadata": {
    "collapsed": false
   },
   "outputs": [
    {
     "data": {
      "image/png": "[encoded data removed]",
      "text/plain": [
       "<matplotlib.figure.Figure at 0x7fa0d006dfd0>"
      ]
     },
     "metadata": {},
     "output_type": "display_data"
    }
   ],
   "source": [
    "### lets draw some exponentially distributed x\n",
    "xs = np.random.exponential(scale=1.0, size=10**6)\n",
    "plt.figure()\n",
    "_ = plt.hist(xs, histtype='step', bins=16, log=True)"
   ]
  },
  {
   "cell_type": "code",
   "execution_count": 4,
   "metadata": {
    "collapsed": false
   },
   "outputs": [
    {
     "name": "stdout",
     "output_type": "stream",
     "text": [
      "Estimated from whole sample: 24.1222115929\n",
      "\n",
      "Hybrid sampling: mean s(x) =  24.1628223157\n",
      "Uniform sampling: mean s(x) =  23.7066624157\n",
      "\n",
      "Hybrid sampling: std s(x) =  1.73008964017\n",
      "Uniform sampling: std s(x) =  16.3619255427\n"
     ]
    }
   ],
   "source": [
    "### and estimate mean of x ** 4\n",
    "true_stat = np.mean(xs ** 4)\n",
    "print 'Estimated from whole sample:', true_stat\n",
    "\n",
    "m1 = [\n",
    "    np.sum(wc * (xs[batch] ** 4)) / np.sum(wc)\n",
    "    for batch, wc in binned_batch_stream(xs, n_epoches=16, batch_size=128, n_batches=1024, n_bins=8).next()\n",
    "]\n",
    "\n",
    "from itertools import islice\n",
    "\n",
    "m2 = [\n",
    "    np.mean(xs[batch] ** 4)\n",
    "    for batch in BatchStreams.random_batch_stream(xs.shape[0], batch_size=128, n_batches=1024)\n",
    "]\n",
    "\n",
    "print\n",
    "### the analytical result is 24\n",
    "print 'Hybrid sampling: mean s(x) = ', np.mean(m1)\n",
    "print 'Uniform sampling: mean s(x) = ', np.mean(m2)\n",
    "\n",
    "print\n",
    "\n",
    "### the analytical result is 24\n",
    "print 'Hybrid sampling: std s(x) = ', np.std(m1)\n",
    "print 'Uniform sampling: std s(x) = ', np.std(m2)"
   ]
  },
  {
   "cell_type": "code",
   "execution_count": 5,
   "metadata": {
    "collapsed": false
   },
   "outputs": [
    {
     "data": {
      "text/plain": [
       "<matplotlib.legend.Legend at 0x7fa0a4cfe3d0>"
      ]
     },
     "execution_count": 5,
     "metadata": {},
     "output_type": "execute_result"
    },
    {
     "data": {
      "image/png": "[encoded data removed]",
      "text/plain": [
       "<matplotlib.figure.Figure at 0x7fa0a4cfe550>"
      ]
     },
     "metadata": {},
     "output_type": "display_data"
    }
   ],
   "source": [
    "plt.figure()\n",
    "_ = plt.hist([m1, m2], bins=100, histtype='step', label=['hybrid sampling', 'uniform samplind'])\n",
    "plt.plot([true_stat, true_stat], [0, 400], '--', label='')\n",
    "plt.legend()"
   ]
  },
  {
   "cell_type": "markdown",
   "metadata": {},
   "source": [
    "### Much stable for estimating statistics that heavily depend on tails, isn't it?\n",
    "\n",
    "Now back to particles."
   ]
  },
  {
   "cell_type": "code",
   "execution_count": null,
   "metadata": {
    "collapsed": false
   },
   "outputs": [],
   "source": [
    "### loading info about available runs\n",
    "runs = load_index('raw_masked.json', DATA_ROOT)"
   ]
  },
  {
   "cell_type": "code",
   "execution_count": null,
   "metadata": {
    "collapsed": true
   },
   "outputs": [],
   "source": [
    "TARGET = 'Ra226'\n",
    "AGAINST = 'cal'"
   ]
  },
  {
   "cell_type": "code",
   "execution_count": null,
   "metadata": {
    "collapsed": true
   },
   "outputs": [],
   "source": [
    "WINDOW=46\n",
    "STEP=23"
   ]
  },
  {
   "cell_type": "code",
   "execution_count": null,
   "metadata": {
    "collapsed": true
   },
   "outputs": [],
   "source": [
    "target_run = runs[TARGET]\n",
    "against_run = runs[AGAINST]"
   ]
  },
  {
   "cell_type": "code",
   "execution_count": null,
   "metadata": {
    "collapsed": false
   },
   "outputs": [],
   "source": [
    "assert len(set(target_run.meta_info['exposure'])) == 1\n",
    "target_exposure = list(set(target_run.meta_info['exposure']))[0]"
   ]
  },
  {
   "cell_type": "code",
   "execution_count": null,
   "metadata": {
    "collapsed": true
   },
   "outputs": [],
   "source": [
    "against_exposure_index = (against_run.meta_info['exposure'] == target_exposure)"
   ]
  },
  {
   "cell_type": "code",
   "execution_count": null,
   "metadata": {
    "collapsed": false
   },
   "outputs": [],
   "source": [
    "against_run = against_run[against_exposure_index][::5]\n",
    "target_run = target_run[np.random.choice(len(target_run), size=len(against_run), replace=False)]"
   ]
  },
  {
   "cell_type": "code",
   "execution_count": null,
   "metadata": {
    "collapsed": false
   },
   "outputs": [],
   "source": [
    "print 'Target run size:', len(target_run)\n",
    "print 'Target run size:', len(against_run)"
   ]
  },
  {
   "cell_type": "code",
   "execution_count": null,
   "metadata": {
    "collapsed": true
   },
   "outputs": [],
   "source": [
    "e = flatten(slice(target_run.get_img(0), window=WINDOW, step=STEP))"
   ]
  },
  {
   "cell_type": "code",
   "execution_count": null,
   "metadata": {
    "collapsed": false
   },
   "outputs": [],
   "source": [
    "e.shape"
   ]
  },
  {
   "cell_type": "code",
   "execution_count": null,
   "metadata": {
    "collapsed": true
   },
   "outputs": [],
   "source": [
    "X = np.ndarray(shape=(len(target_run) + len(against_run), ) + e.shape, dtype='uint16')\n",
    "y = np.ndarray(shape=(len(target_run) + len(against_run), e.shape[0]), dtype='uint16')"
   ]
  },
  {
   "cell_type": "code",
   "execution_count": null,
   "metadata": {
    "collapsed": false
   },
   "outputs": [],
   "source": [
    "print 'Requires memory:', (e.size * 2 / 1024.0 / 1024 / 1024) * (len(target_run) + len(against_run)), 'Gb'"
   ]
  },
  {
   "cell_type": "code",
   "execution_count": null,
   "metadata": {
    "collapsed": false
   },
   "outputs": [],
   "source": [
    "for i, img in enumerate(target_run):\n",
    "    X[i] = flatten(slice(img, window=WINDOW, step=STEP))\n",
    "    y[i] = 1\n",
    "\n",
    "for i, img in enumerate(against_run, start=len(target_run)):\n",
    "    X[i] = flatten(slice(img, window=WINDOW, step=STEP))\n",
    "    y[i] = 0"
   ]
  },
  {
   "cell_type": "code",
   "execution_count": null,
   "metadata": {
    "collapsed": true
   },
   "outputs": [],
   "source": [
    "img_means = np.mean(X, axis=(1, 2, 3, 4))"
   ]
  },
  {
   "cell_type": "code",
   "execution_count": null,
   "metadata": {
    "collapsed": false
   },
   "outputs": [],
   "source": [
    "plt.figure()\n",
    "plt.plot(img_means)"
   ]
  },
  {
   "cell_type": "code",
   "execution_count": null,
   "metadata": {
    "collapsed": true
   },
   "outputs": [],
   "source": [
    "X = X.reshape(-1, 1, 46, 46)\n",
    "y = y.reshape(-1)"
   ]
  },
  {
   "cell_type": "code",
   "execution_count": null,
   "metadata": {
    "collapsed": true
   },
   "outputs": [],
   "source": [
    "m = np.max(X, axis=(1, 2, 3))"
   ]
  },
  {
   "cell_type": "code",
   "execution_count": null,
   "metadata": {
    "collapsed": false
   },
   "outputs": [],
   "source": [
    "plt.figure()\n",
    "plt.hist([\n",
    "    np.mean(X[y == 0], axis=(1, 2, 3)),\n",
    "    np.mean(X[y == 1], axis=(1, 2, 3)),\n",
    "], bins=20, log=True, histtype='step', label=['cal', 'Co'])\n",
    "\n",
    "plt.legend()"
   ]
  },
  {
   "cell_type": "code",
   "execution_count": null,
   "metadata": {
    "collapsed": false
   },
   "outputs": [],
   "source": [
    "plt.figure()\n",
    "plt.hist([\n",
    "    np.std(X[y == 0], axis=(1, 2, 3)),\n",
    "    np.std(X[y == 1], axis=(1, 2, 3)),\n",
    "], bins=20, log=True, histtype='step', label=['cal', 'Co'])\n",
    "\n",
    "plt.legend()"
   ]
  },
  {
   "cell_type": "code",
   "execution_count": null,
   "metadata": {
    "collapsed": true
   },
   "outputs": [],
   "source": [
    "def elu(x):\n",
    "    return T.switch(x > 0, x, theano.tensor.exp(x) - 1)"
   ]
  },
  {
   "cell_type": "code",
   "execution_count": null,
   "metadata": {
    "collapsed": false
   },
   "outputs": [],
   "source": [
    "class TrackNet(Expression):\n",
    "    def __init__(self, shape = (1, 46, 46), normalization=True):\n",
    "        self.X_batch = T.tensor4('input patches', dtype='uint16')\n",
    "\n",
    "        if normalization:\n",
    "            X_batch_float = self.X_batch.astype('float32')\n",
    "            X_mean = T.mean(X_batch_float, axis=(1, 2, 3))\n",
    "            X_std = T.std(X_batch_float, axis=(1, 2, 3))\n",
    "            X_normed_batch = (X_batch_float - X_mean[:, None, None, None]) / X_std[:, None, None, None]\n",
    "        else:\n",
    "            X_batch_float = self.X_batch.astype('float32')\n",
    "            X_normed_batch = X_batch_float\n",
    "\n",
    "        self.y_batch = T.fvector('labels')\n",
    "        self.w_batch = T.fvector('weights')\n",
    "        \n",
    "        net = layers.InputLayer(shape=(None, ) + shape, input_var=X_normed_batch)\n",
    "        \n",
    "        for i in range(4):\n",
    "            net = layers.Conv2DLayer(\n",
    "                net,\n",
    "                num_filters=2**(3 + i),\n",
    "                filter_size=(3, 3),\n",
    "                nonlinearity=elu\n",
    "            )\n",
    "            \n",
    "            net = layers.Pool2DLayer(\n",
    "                net,\n",
    "                pool_size=(2, 2),\n",
    "            )\n",
    "            \n",
    "        net = layers.Conv2DLayer(\n",
    "            net,\n",
    "            num_filters = 1,\n",
    "            filter_size=(1, 1),\n",
    "            nonlinearity = nonlinearities.sigmoid\n",
    "        )\n",
    "        \n",
    "        self.net = net\n",
    "        \n",
    "        super(TrackNet, self).__init__(self.X_batch, self.net)\n",
    "\n",
    "        prediction = layers.get_output(self.net)\n",
    "        \n",
    "        self.predict = theano.function([self.X_batch], prediction)\n",
    "        \n",
    "        f_prediction = T.flatten(prediction, outdim=1)\n",
    "        \n",
    "        log_loss = T.sum(\n",
    "            self.w_batch * objectives.binary_crossentropy(f_prediction, self.y_batch)\n",
    "        ) / T.sum(self.w_batch)\n",
    "        \n",
    "        self.get_loss = theano.function([self.X_batch, self.w_batch, self.y_batch], log_loss)\n",
    "        \n",
    "        reg_coef = T.fscalar('regularization coefficient')\n",
    "        \n",
    "        loss = log_loss + reg_coef * regularization.regularize_network_params(self.net, regularization.l2)\n",
    "        \n",
    "        learning_rate = T.fscalar('learning rate')\n",
    "        upd = updates.adadelta(loss, layers.get_all_params(self.net), learning_rate=learning_rate)\n",
    "        \n",
    "        self.train = theano.function(\n",
    "            [self.X_batch, self.w_batch, self.y_batch, reg_coef, learning_rate],\n",
    "            log_loss,\n",
    "            updates = upd\n",
    "        )\n",
    "    \n",
    "    def fit(self, X, y,\n",
    "            sampling_statistics,\n",
    "            reg_c=1.0e-5, learning_rate = 1.0,\n",
    "            n_epoches=16, batch_size=128,\n",
    "            watcher=None):\n",
    "\n",
    "        size = X.shape[0]\n",
    "        n_batches = size / batch_size + (1 if size % batch_size != 0 else 0)\n",
    "        \n",
    "        pos_class_prior = np.sum(y) / float(y.shape[0])\n",
    "        neg_class_prior = 1.0 - pos_class_prior\n",
    "\n",
    "        weights = (np.where(y, 0.5 / pos_class_prior, 0.5 / neg_class_prior) / size).astype('float32')\n",
    "        \n",
    "        history = np.zeros(shape=(n_epoches, n_batches), dtype='float32')\n",
    "        \n",
    "        batch_stream_factory = binned_batch_stream(\n",
    "                sampling_statistics,\n",
    "                n_epoches,\n",
    "                batch_size, n_batches,\n",
    "                n_bins=16\n",
    "            )\n",
    "        \n",
    "        for epoch, batch_stream in enumerate(batch_stream_factory):\n",
    "            for i, (indx, w_correction) in enumerate(batch_stream):\n",
    "                w_correction = np.ones_like(w_correction)\n",
    "                history[epoch, i] = self.train(\n",
    "                    X[indx], y[indx], (weights[indx] * w_correction).astype('float32'),\n",
    "                    np.float32(reg_c), np.float32(learning_rate)\n",
    "                )\n",
    "            \n",
    "            if watcher is not None:\n",
    "                watcher.draw(history[:(epoch + 1)])\n",
    "\n",
    "        return history"
   ]
  },
  {
   "cell_type": "code",
   "execution_count": null,
   "metadata": {
    "collapsed": false
   },
   "outputs": [],
   "source": [
    "net = TrackNet(normalization=True)"
   ]
  },
  {
   "cell_type": "code",
   "execution_count": null,
   "metadata": {
    "collapsed": false
   },
   "outputs": [],
   "source": [
    "print net.description()"
   ]
  },
  {
   "cell_type": "code",
   "execution_count": null,
   "metadata": {
    "collapsed": false
   },
   "outputs": [],
   "source": [
    "watcher = NNWatcher()"
   ]
  },
  {
   "cell_type": "code",
   "execution_count": null,
   "metadata": {
    "collapsed": false
   },
   "outputs": [],
   "source": [
    "net.fit(\n",
    "    X, y, m.reshape(-1),\n",
    "    n_epoches=16, batch_size=256,\n",
    "    watcher=watcher\n",
    ")"
   ]
  },
  {
   "cell_type": "code",
   "execution_count": null,
   "metadata": {
    "collapsed": true
   },
   "outputs": [],
   "source": [
    ""
   ]
  }
 ],
 "metadata": {
  "kernelspec": {
   "display_name": "Python 2",
   "language": "python",
   "name": "python2"
  },
  "language_info": {
   "codemirror_mode": {
    "name": "ipython",
    "version": 2.0
   },
   "file_extension": ".py",
   "mimetype": "text/x-python",
   "name": "python",
   "nbconvert_exporter": "python",
   "pygments_lexer": "ipython2",
   "version": "2.7.12"
  }
 },
 "nbformat": 4,
 "nbformat_minor": 0
}